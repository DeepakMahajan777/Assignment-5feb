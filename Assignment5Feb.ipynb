{
 "cells": [
  {
   "cell_type": "markdown",
   "id": "d6f6b052-33c1-4dca-b51c-d3fa707c4d31",
   "metadata": {},
   "source": [
    "Ans1 - class in oops is a template definition of the methods and variables in a particular kind of objects.\n",
    "object is a specific instance of a class. It contains real values instead of variables"
   ]
  },
  {
   "cell_type": "markdown",
   "id": "901c1a52-2689-48ec-a13d-dc58061d782e",
   "metadata": {},
   "source": [
    "Ans2 - 4 Pillars of OOPS\n",
    "1)- Inheritance\n",
    "2)- Polymorphism\n",
    "3)- Encapsulation\n",
    "4)- Abstraction"
   ]
  },
  {
   "cell_type": "code",
   "execution_count": 5,
   "id": "806efa96-d4f0-4456-8a64-48a09b6c1caf",
   "metadata": {},
   "outputs": [],
   "source": [
    "#Ans3 - __init__ function is used to different informations in the class\n",
    "class batch2018 :\n",
    "    def __init__(self, entryno , cgpa) :\n",
    "        self.entryno = entryno\n",
    "        self.cgpa = cgpa\n",
    "        \n",
    "    def details(self) :\n",
    "        return self.entryno , self.cgpa"
   ]
  },
  {
   "cell_type": "code",
   "execution_count": 6,
   "id": "529a46c1-95aa-488d-bb88-b969883b7585",
   "metadata": {},
   "outputs": [],
   "source": [
    "deepak = batch2018(\"18ies023\", 9.0)"
   ]
  },
  {
   "cell_type": "code",
   "execution_count": 7,
   "id": "a09a385e-4e66-4bda-bc41-6e5481a5a121",
   "metadata": {},
   "outputs": [
    {
     "data": {
      "text/plain": [
       "('18ies023', 9.0)"
      ]
     },
     "execution_count": 7,
     "metadata": {},
     "output_type": "execute_result"
    }
   ],
   "source": [
    "deepak.details()"
   ]
  },
  {
   "cell_type": "markdown",
   "id": "95fe167a-4c9f-4767-9d9f-d8e6caa3e1b9",
   "metadata": {},
   "source": [
    "Ans4 - Self is used in oops to represent the instance of the class which is often used in oops."
   ]
  },
  {
   "cell_type": "code",
   "execution_count": null,
   "id": "71ef928c-085e-4636-81a1-e2dd99ff3213",
   "metadata": {},
   "outputs": [],
   "source": [
    "Ans 5 - Inheritance in oops is when a class derives from another class. It "
   ]
  }
 ],
 "metadata": {
  "kernelspec": {
   "display_name": "Python 3 (ipykernel)",
   "language": "python",
   "name": "python3"
  },
  "language_info": {
   "codemirror_mode": {
    "name": "ipython",
    "version": 3
   },
   "file_extension": ".py",
   "mimetype": "text/x-python",
   "name": "python",
   "nbconvert_exporter": "python",
   "pygments_lexer": "ipython3",
   "version": "3.10.8"
  }
 },
 "nbformat": 4,
 "nbformat_minor": 5
}
